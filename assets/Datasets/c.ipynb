{
 "cells": [
  {
   "cell_type": "code",
   "execution_count": 2,
   "metadata": {},
   "outputs": [],
   "source": [
    "import pandas as pd\n",
    "import random as rn"
   ]
  },
  {
   "cell_type": "code",
   "execution_count": 3,
   "metadata": {},
   "outputs": [
    {
     "data": {
      "text/plain": [
       "242"
      ]
     },
     "execution_count": 3,
     "metadata": {},
     "output_type": "execute_result"
    }
   ],
   "source": [
    "data = pd.read_csv(r\"D:\\My Download\\DULMS\\Codes\\Cloud\\Project\\assets\\Datasets\\Cities.csv\")\n",
    "\n",
    "\n",
    "x = set(list(data[\"country\"]))\n",
    "# count = 0 \n",
    "# for x , y in zip(data[\"country\"].values,data[\"city\"].values):\n",
    "\n",
    "#     if x == \"Egypt\":\n",
    "#         print(x,y,sep=\" = \")\n",
    "#         count += 1\n",
    "# print(count)\n",
    "len(x)"
   ]
  },
  {
   "cell_type": "code",
   "execution_count": 4,
   "metadata": {},
   "outputs": [
    {
     "name": "stdout",
     "output_type": "stream",
     "text": [
      "Egypt = Cairo\n"
     ]
    },
    {
     "ename": "NameError",
     "evalue": "name 'count' is not defined",
     "output_type": "error",
     "traceback": [
      "\u001b[1;31m---------------------------------------------------------------------------\u001b[0m",
      "\u001b[1;31mNameError\u001b[0m                                 Traceback (most recent call last)",
      "Cell \u001b[1;32mIn[4], line 8\u001b[0m\n\u001b[0;32m      6\u001b[0m     \u001b[38;5;28;01mif\u001b[39;00m x \u001b[38;5;241m==\u001b[39m \u001b[38;5;124m\"\u001b[39m\u001b[38;5;124mEgypt\u001b[39m\u001b[38;5;124m\"\u001b[39m:\n\u001b[0;32m      7\u001b[0m         \u001b[38;5;28mprint\u001b[39m(x,y,sep\u001b[38;5;241m=\u001b[39m\u001b[38;5;124m\"\u001b[39m\u001b[38;5;124m = \u001b[39m\u001b[38;5;124m\"\u001b[39m)\n\u001b[1;32m----> 8\u001b[0m         \u001b[43mcount\u001b[49m \u001b[38;5;241m+\u001b[39m\u001b[38;5;241m=\u001b[39m \u001b[38;5;241m1\u001b[39m\n\u001b[0;32m      9\u001b[0m \u001b[38;5;28mprint\u001b[39m(count)\n",
      "\u001b[1;31mNameError\u001b[0m: name 'count' is not defined"
     ]
    }
   ],
   "source": [
    "x = set(list(data[\"country\"]))\n",
    "\n",
    "data[\"country\"]\n",
    "for x , y in zip(data[\"country\"].values,data[\"city\"].values):\n",
    "\n",
    "    if x == \"Egypt\":\n",
    "        print(x,y,sep=\" = \")\n",
    "        count += 1\n",
    "print(count)\n",
    "\n",
    "\n"
   ]
  },
  {
   "cell_type": "code",
   "execution_count": 11,
   "metadata": {},
   "outputs": [
    {
     "name": "stdout",
     "output_type": "stream",
     "text": [
      "[('Cairo', 31.2358, np.float64(30.0444)), ('Giza', 31.2118, np.float64(29.987)), ('Alexandria', 29.8925, np.float64(31.1975)), ('Shubrā al Khaymah', 31.2422, np.float64(30.1286)), ('Ashmūn', 31.0342, np.float64(30.2941)), ('Sinnūris', 30.8667, np.float64(29.4072)), ('Dayrūţ', 30.8167, np.float64(27.5667)), ('Ţūkh', 31.2007, np.float64(30.3539)), ('Al Manşūrah', 31.3833, np.float64(31.05)), ('Ḩalwān', 31.3333, np.float64(29.8453)), ('Al Maḩallah al Kubrá', 31.1636, np.float64(30.9686)), ('Shibīn al Qanāţir', 31.3214, np.float64(30.3133)), ('Abū Ḩummuş', 30.3128, np.float64(31.1006)), ('Port Said', 32.3061, np.float64(31.2625)), ('Al Fayyūm', 30.8441, np.float64(29.3084)), ('Suez', 32.55, np.float64(29.9667)), ('Abū Ţisht', 32.0953, np.float64(26.1183)), ('Al Fashn', 30.8992, np.float64(28.8227)), ('Bibā', 30.9844, np.float64(28.9218)), ('Akhmīm', 31.75, np.float64(26.5667)), ('Al Marāghah', 31.6, np.float64(26.7)), ('Ţanţā', 31.0, np.float64(30.7833)), ('Ismailia', 32.2667, np.float64(30.5833)), ('Al Bājūr', 31.0569, np.float64(30.4333)), ('Awsīm', 31.1333, np.float64(30.1167)), ('Talā', 30.9438, np.float64(30.6801)), ('Ţalkhā', 31.3756, np.float64(31.0547)), ('Asyūţ', 31.1667, np.float64(27.1833)), ('Dikirnis', 31.5969, np.float64(31.0883)), ('Ash Shuhadā’', 30.9021, np.float64(30.6039)), ('Birkat as Sab‘', 31.0848, np.float64(30.6338)), ('Az Zaqāzīq', 31.5, np.float64(30.5667)), ('Al Waqf', 32.4245, np.float64(26.0808)), ('Al ‘Ajamī', 29.7604, np.float64(31.0959)), ('Al Maţarīyah', 32.0333, np.float64(31.1833)), ('Shubrākhīt', 30.7128, np.float64(31.0275)), ('Kafr Şaqr', 31.6261, np.float64(30.7964)), ('Qillīn', 30.8546, np.float64(31.0464)), ('Shibīn al Kawm', 31.01, np.float64(30.5586)), ('Aswān', 32.8997, np.float64(24.0889)), ('Kafr ad Dawwār', 30.13, np.float64(31.1311)), ('Râs el-Barr', 31.8256, np.float64(31.5125)), ('Al ‘Āshir min Ramaḑān', 31.7415, np.float64(30.3065)), ('Damanhūr', 30.4694, np.float64(31.0361)), ('Al Minyā', 30.7444, np.float64(28.1194)), ('Biyalā', 31.2204, np.float64(31.1747)), ('Sāqultah', 31.6667, np.float64(26.65)), ('Mallawī', 30.8333, np.float64(27.7333)), ('Farshūţ', 32.1639, np.float64(26.055)), ('Damietta', 31.8214, np.float64(31.4167)), ('Luxor', 32.6444, np.float64(25.6967)), ('Timayy al Imdīd', 31.5293, np.float64(30.9438)), ('Qinā', 32.7167, np.float64(26.1667)), ('Şidfā', 31.3808, np.float64(26.9653)), ('Sūhāj', 31.7, np.float64(26.55)), ('Banī Suwayf', 31.0833, np.float64(29.0667)), ('Al ‘Arīsh', 33.8006, np.float64(31.1249)), ('Ar Raḩmānīyah', 30.6337, np.float64(31.1062)), ('Al Ghardaqah', 33.8117, np.float64(27.2578)), ('Banhā', 31.1833, np.float64(30.4667)), ('Qalyūb', 31.2053, np.float64(30.1997)), ('Madīnat as Sādis min Uktūbar', 30.9667, np.float64(29.9833)), ('Kafr ash Shaykh', 30.9458, np.float64(31.1117)), ('Disūq', 30.645, np.float64(31.1422)), ('Bilbays', 31.5667, np.float64(30.4167)), ('Idfū', 32.8733, np.float64(24.9778)), ('Rosetta', 30.4164, np.float64(31.4044)), ('Mīt Ghamr', 31.25, np.float64(30.7167)), ('Munūf', 30.9308, np.float64(30.4658)), ('Fāqūs', 31.797, np.float64(30.7282)), ('Maţrūḩ', 27.2167, np.float64(31.3333)), ('Idkū', 30.3, np.float64(31.3)), ('Jirjā', 31.9, np.float64(26.3333)), ('Ra’s Ghārib', 33.0775, np.float64(28.3597)), ('Al Jammālīyah', 31.8653, np.float64(31.1806)), ('Ziftá', 31.2443, np.float64(30.7142)), ('Samālūţ', 30.7108, np.float64(28.3097)), ('Al Badrashayn', 31.276, np.float64(29.852)), ('Bi’r al ‘Abd', 33.0111, np.float64(31.0181)), ('Ibshawāy', 30.7107, np.float64(29.4447)), ('Manfalūţ', 30.9667, np.float64(27.3167)), ('Rafaḩ', 34.2414, np.float64(31.2808)), ('Mīt Salsīl', 31.8, np.float64(31.1667)), ('Banī Mazār', 30.8, np.float64(28.5)), ('Madīnat as Sādāt', 30.5266, np.float64(30.3811)), ('Al Khānkah', 31.3133, np.float64(30.1601)), ('Armant', 32.5333, np.float64(25.6167)), ('Kafr az Zayyāt', 30.8153, np.float64(30.8247)), ('Maghāghah', 30.85, np.float64(28.65)), ('Kawm Umbū', 32.95, np.float64(24.4667)), ('Būr Fu’ād', 32.3167, np.float64(31.25)), ('‘Izbat al Burj', 31.8411, np.float64(31.5031)), ('Al Qūşīyah', 30.8216, np.float64(27.4143)), ('Kirdāsah', 31.1104, np.float64(30.032)), ('Isnā', 32.55, np.float64(25.3)), ('Abnūb', 31.15, np.float64(27.2667)), ('Hihyā', 31.5904, np.float64(30.6687)), ('Al Minshāh', 31.8, np.float64(26.4833)), ('Al Qurayn', 31.7353, np.float64(30.6161)), ('Ash Shaykh Zuwayd', 34.1106, np.float64(31.2119)), ('Daljā', 30.7, np.float64(27.65)), ('Abū Qurqāş', 30.8333, np.float64(27.9333)), ('Sīdī Barānī', 25.9256, np.float64(31.6108)), ('Naj‘ Ḩammādī', 32.25, np.float64(26.05)), ('Aş Şaff', 31.2906, np.float64(29.5772)), ('Samannūd', 31.25, np.float64(30.9667)), ('Abū Za‘bal', 31.411, np.float64(30.2415)), ('Dandarah', 32.6561, np.float64(26.1681)), ('Al Khārjah', 30.55, np.float64(25.44)), ('Al Balyanā', 32.0, np.float64(26.2333)), ('Maţāy', 30.75, np.float64(28.4167)), ('Banī ‘Ubayd', 31.6479, np.float64(31.0234)), ('Kafr al Baţţīkh', 31.7612, np.float64(31.3234)), ('Abū al Maţāmīr', 30.1485, np.float64(30.9084)), ('Al ‘Ayyāţ', 31.25, np.float64(29.6167)), ('Şān al Ḩajar al Qiblīyah', 31.88, np.float64(30.9769)), ('Al Badārī', 31.4156, np.float64(26.9925)), ('Kafr al Kurdī', 31.7826, np.float64(31.1429)), ('Dayr Mawās', 30.85, np.float64(27.6333)), ('Ihnāsyā al Madīnah', 30.9333, np.float64(29.0833)), ('Nabarūh', 31.3, np.float64(31.0942)), ('Darāw', 32.9167, np.float64(24.4)), ('Abū Qīr', 30.0667, np.float64(31.3167)), ('Fāraskūr', 31.7147, np.float64(31.3297)), ('Badr', 31.715, np.float64(30.136)), ('Shanawān', 31.0058, np.float64(30.5031)), ('Quţūr', 30.9563, np.float64(30.9735)), ('Maḩallat Damanah', 31.4959, np.float64(31.0754)), ('Al Ḩusaynīyah', 31.9181, np.float64(30.8617)), ('Abū Şuwayr', 32.1155, np.float64(30.5633)), ('Safājā', 33.9333, np.float64(26.7333)), ('Qiman al ‘Arūs', 31.1683, np.float64(29.3005)), ('As Sarw', 31.6538, np.float64(31.2387)), ('Qahā', 31.2, np.float64(30.2833)), ('Al Karnak', 32.6586, np.float64(25.7186)), ('Hirrīyat Raznah', 31.5372, np.float64(30.6028)), ('Kafr Shukr', 31.2673, np.float64(30.547)), ('Sīwah', 25.5167, np.float64(29.2)), ('Kafr Sa‘d', 31.6865, np.float64(31.3594)), ('Shārūnah', 30.85, np.float64(28.5667)), ('Abū Şīr Banā', 31.2347, np.float64(30.9)), ('Qifţ', 32.8158, np.float64(25.9956)), ('Naqādah', 32.7167, np.float64(25.9)), ('Mīt Namā', 31.2343, np.float64(30.1453)), ('Al Qays', 30.7833, np.float64(28.4833)), ('Sunbāţ', 31.207, np.float64(30.8057)), ('Şā al Ḩajar', 30.7683, np.float64(30.9647)), ('Jarājūs', 32.7566, np.float64(25.8681)), ('Banī Murr', 31.1944, np.float64(27.2272)), ('Zāwiyat Razīn', 30.8536, np.float64(30.4122)), ('Dayr Abū Ḩinnis', 30.905, np.float64(27.7864)), ('Banī Ḩasan ash Shurūq', 30.8833, np.float64(27.9333)), ('Ajā', 31.2942, np.float64(30.9414)), ('Biyahmū', 30.8528, np.float64(29.3675)), ('Al Ḩībah', 30.9228, np.float64(28.7736)), ('Al Madāmūd', 32.65, np.float64(25.7167)), ('Sakhā', 30.951, np.float64(31.089)), ('Dayr al Barshā', 30.9, np.float64(27.75)), ('Aḑ Ḑab‘ah', 28.4333, np.float64(31.0338)), ('Birqāsh', 31.0417, np.float64(30.1692)), ('Qantīr', 31.8333, np.float64(30.8)), ('Sharm ash Shaykh', 34.3275, np.float64(27.915)), ('Sidmant al Jabal', 30.9, np.float64(29.1431)), ('Dinshawāy', 30.8167, np.float64(30.6)), ('Aţ Ţūr', 33.6222, np.float64(28.2417)), ('Burj al ‘Arab', 29.6117, np.float64(30.8489)), ('Dishāshah', 30.8492, np.float64(28.9831)), ('Mīt Damsīs', 31.2226, np.float64(30.8267)), ('Qal‘at an Nakhl', 33.75, np.float64(29.9)), ('Sawādah', 30.7953, np.float64(28.0775)), ('Abjīj', 30.8152, np.float64(29.2861)), ('Qufādah', 30.7554, np.float64(28.5812)), ('Shanhūr', 32.7779, np.float64(25.8604)), ('Mandīshah', 28.9317, np.float64(28.3515)), ('Dayr as Sanqūrīyah', 30.6648, np.float64(28.4868)), ('Najrīj', 30.8667, np.float64(30.9667)), ('As Sallūm', 25.16, np.float64(31.55)), ('Qaşr al Farāfirah', 27.97, np.float64(27.0583)), ('Al Qaşr', 28.8837, np.float64(25.6959)), ('Al ‘Alamayn', 28.95, np.float64(30.8333)), ('Barnīs', 35.4842, np.float64(23.946))]\n"
     ]
    }
   ],
   "source": [
    "\n",
    "\n",
    "x = set(list(data[\"country\"]))\n",
    "\n",
    "\n",
    "cities = [(y,float(b),z) for x , y ,b,z,in zip(data[\"country\"].values,data[\"city\"].values,data[\"lng\"].values,data[\"lat\"].values) if x == \"Egypt\"]\n",
    "    \n",
    "\n",
    "print(cities)\n",
    "\n",
    "\n",
    "\n"
   ]
  },
  {
   "cell_type": "code",
   "execution_count": 25,
   "metadata": {},
   "outputs": [
    {
     "data": {
      "text/plain": [
       "['40.555', '44.9536', 'Sevan']"
      ]
     },
     "execution_count": 25,
     "metadata": {},
     "output_type": "execute_result"
    }
   ],
   "source": [
    "data_str = \"[40.555, 44.9536, 'Sevan']\"\n",
    "\n",
    "\n",
    "x = data_str.strip().removeprefix('[').removesuffix(']').split(\",\")[1].strip()\n",
    "\n",
    "y = [data_str.replace(\"'\",\"\").removeprefix('[').removesuffix(']').split(\",\")[x].strip() for x in range(3)]\n",
    "y\n",
    "\n"
   ]
  }
 ],
 "metadata": {
  "kernelspec": {
   "display_name": "Python 3",
   "language": "python",
   "name": "python3"
  },
  "language_info": {
   "codemirror_mode": {
    "name": "ipython",
    "version": 3
   },
   "file_extension": ".py",
   "mimetype": "text/x-python",
   "name": "python",
   "nbconvert_exporter": "python",
   "pygments_lexer": "ipython3",
   "version": "3.13.1"
  }
 },
 "nbformat": 4,
 "nbformat_minor": 2
}
